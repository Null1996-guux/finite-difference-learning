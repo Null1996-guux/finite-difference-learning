{
 "cells": [
  {
   "cell_type": "markdown",
   "metadata": {},
   "source": [
    "本节通过差分格式的建立来求解导数边界值问题   \n",
    "\n",
    "\\begin{equation}\n",
    "    \\begin{cases}\n",
    "        -u^{\\prime \\prime}(x) + q(x)u(x) = f(x), & a < x <b, \\\\\n",
    "        -u^{\\prime}(a) + \\lambda_1 u(a) = \\alpha, & u^{\\prime}(b) + \\lambda_2 u(b) = \\beta,\n",
    "    \\end{cases}\n",
    "\\end{equation}\n",
    "\n",
    "其中 $ \\color{red}{q(x) \\geq 0 } $, $ f(x) $ 为已知连续函数, $ \\color{red}{\\lambda_1 \\geq 0}, \\color{red}{\\quad \\lambda_2 \\geq 0} $ $ \\alpha, \\quad \\beta $为已知常数, $ \\color{red}{\\lambda_1 + \\lambda_2 = 0 \\ \\ \\  和 \\ \\ \\ q(x) \\equiv 0 \\ \\  不同时成立  }$"
   ]
  },
  {
   "cell_type": "markdown",
   "metadata": {},
   "source": [
    "# 差分格式的建立\n",
    "在网格结点处改写上述方程如下:\n",
    "\n",
    "\\begin{equation}\n",
    "    \\begin{cases}\n",
    "        -u^{\\prime \\prime}(x_i) + q(x_i)u(x_i) = f(x_i), & 1 \\leq i \\leq m-1, \\\\\n",
    "        -u^{\\prime}(x_0) + \\lambda_1 u(x_0) = \\alpha, & u^{\\prime}(x_m) + \\lambda_2 u(x_m) = \\beta,\n",
    "    \\end{cases}\n",
    "\\end{equation}\n",
    "\n",
    "对于方程\n",
    "\n",
    "\\begin{equation}\n",
    "    -u^{\\prime \\prime}(x_i) + q(x_i)u(x_i) = f(x_i)\n",
    "\\end{equation}\n",
    "\n",
    "有\n",
    "\n",
    "\\begin{equation}\n",
    "    u^{\\prime \\prime}(x_i) = \\delta_x^2U_i - \\dfrac{1}{12}u^{(4)}(\\xi_i) \\quad \\xi_i \\in (x_{i-1}, x_{i+1})\n",
    "\\end{equation}\n",
    "\n",
    "对于\n",
    "\n",
    "\\begin{equation}\n",
    "     -u^{\\prime}(x_0) + \\lambda_1 u(x_0) = \\alpha, \\quad u^{\\prime}(x_m \\ ) + \\lambda_2 u(x_m \\ ) = \\beta,\n",
    "\\end{equation}\n",
    "\n",
    "利用\n",
    "\n",
    "\\begin{equation}\n",
    "    u^{\\prime}(x_0) = \\frac{u(x_1) - u(x_0)}{h} - \\frac{h}{2}u^{\\prime \\prime}(\\xi_0) = D_+(x_0) - \\frac{h}{2}u^{\\prime \\prime}(\\xi_0), \\quad \\xi_0 \\in (x_0, \\ x_1)\n",
    "\\end{equation}\n",
    "\n",
    "\\begin{equation}\n",
    "    u^{\\prime}(x_m \\ ) = \\frac{u(x_m \\ ) - u(x_{m-1} \\ )}{h} - \\frac{h}{2}u^{\\prime \\prime}(\\xi_m \\ ) = D_-(x_m \\ ) - \\frac{h}{2}u^{\\prime \\prime}(\\xi_m \\ ), \\quad \\xi_m \\in (x_{m-1},\\ x_{m}\\ )\n",
    "\\end{equation}\n",
    "\n",
    "于是得:\n",
    "\n",
    "\\begin{align}\n",
    "     -\\delta_x^2U_i + q(x_i \\ )U_i = f(x_i \\ ) - \\frac{h^2}{12}u^{(4)}(\\xi_i \\ ), & \\quad 1 \\leq i \\leq m-1 \\\\\n",
    "     -D_+U_0 + \\lambda_1U_0 = \\alpha - \\frac{h}{2}u^{\\prime \\prime}(\\xi_0 \\ )  & \\\\\n",
    "     D_-U_m + \\lambda_2U_m = \\beta - \\frac{h}{2}u^{\\prime \\prime}(\\xi_m \\ )    \n",
    "\\end{align}\n",
    "\n",
    "忽略小量并且将 $U_i$ 利用 $u_i$ 代替得如下差分格式:\n",
    "\n",
    "\\begin{equation}\n",
    "    \\begin{cases}\n",
    "        -\\delta_x^2u_i + q(x_i)u_i = f(x_i), & 1 \\leq i \\leq m-1, \\\\\n",
    "        -D_+u_0 + \\lambda_1 u_0 = \\alpha, & D_-u_m + \\lambda_2 u(b) = \\beta,\n",
    "    \\end{cases}\n",
    "\\end{equation}\n",
    "\n"
   ]
  },
  {
   "cell_type": "markdown",
   "metadata": {},
   "source": [
    "## 问题:\n",
    "\n",
    "在这里,原方程的截断误差是 $O(h^2)$, 导数边界条件的截断误差是 $O(h)$, 需要进一步提升边界条件的逼近精度"
   ]
  },
  {
   "cell_type": "markdown",
   "metadata": {},
   "source": [
    "## 边界条件逼近精度的提高"
   ]
  },
  {
   "cell_type": "markdown",
   "metadata": {},
   "source": [
    "考虑利用原方程: \n",
    "\n",
    "\\begin{align}\n",
    "    u^{\\prime \\prime}(x_0) = q(x_0)u(x_0) - f(x_0) \\\\ \n",
    "    u^{\\prime \\prime}(x_m) = q(x_m)u(x_m) - f(x_m)\n",
    "\\end{align}\n",
    "\n",
    "利用 $ Taylor $展开得:\n",
    "\n",
    "\\begin{align}\n",
    "    u^{\\prime}(x_0) & = D_+U_0 - \\dfrac{h}{2}u^{\\prime \\prime}(x_0) - \\dfrac{h^2}{6}u^{\\prime \\prime \\prime}(\\bar{\\xi_0}) &  \\\\\n",
    "               & = D_+U_0 - \\dfrac{h}{2}[q(x_0)u(x_0) - f(x_0)] - \\dfrac{h^2}{6}u^{\\prime \\prime \\prime}(\\bar{\\xi_0}) & \\bar{\\xi_0} \\in (x_0, x_1)\\\\\n",
    "    u^{\\prime}(x_m) & = D_-U_m + \\dfrac{h}{2}u^{\\prime \\prime}(x_m) - \\dfrac{h^2}{6}u^{\\prime \\prime \\prime}(\\bar{\\xi_m}) &   \\\\\n",
    "               & = D_-U_m + \\dfrac{h}{2}[q(x_m)u(x_m) - f(x_m)] - \\dfrac{h^2}{6}u^{\\prime \\prime \\prime}(\\bar{\\xi_m}) & \\qquad \\bar{\\xi_m} \\in (x_{m-1}, x_m)\n",
    "\\end{align}"
   ]
  },
  {
   "cell_type": "markdown",
   "metadata": {},
   "source": [
    "结合\n",
    "\n",
    "\\begin{align}\n",
    "     - u^{\\prime}(x_0) + \\lambda_1u(x_0) = \\alpha \\\\\n",
    "     u^{\\prime}(x_m) + \\lambda_2u(x_m) = \\beta \\\\\n",
    "     -\\delta_x^2U_i + q(x_i \\ )U_i = f(x_i \\ ) - \\frac{h^2}{12}u^{(4)}(\\xi_i \\ ), & \\quad 1 \\leq i \\leq m-1\n",
    "\\end{align}\n",
    "\n",
    "将上式代入得:\n",
    "\n",
    "\\begin{align}\n",
    "    -\\delta_x^2U_i + q(x_i \\ )U_i & = f(x_i \\ ) - \\frac{h^2}{12}u^{(4)}(\\xi_i \\ ), & \\quad 1 \\leq i \\leq m-1 \\\\\n",
    "    -D_+U_0 + \\dfrac{h}{2}[q(x_0)U_0 - f(x_0)] + \\lambda_1U_0 & = \\alpha - \\dfrac{h^2}{6}u^{\\prime \\prime \\prime}(\\bar{\\xi_0}) \\\\\n",
    "    D_-U_m + \\dfrac{h}{2}[q(x_m)U_m - f(x_m)] + \\lambda_2U_m & = \\beta + \\dfrac{h^2}{6}u^{\\prime \\prime \\prime}(\\bar{\\xi_m})\n",
    "\\end{align}"
   ]
  },
  {
   "cell_type": "markdown",
   "metadata": {},
   "source": [
    "略去小量, 并将$ U_i $利用$ u_i $代替, 化简得原方程的如下差分格式:\n",
    "\n",
    "\\begin{align}\n",
    "    -\\delta_x^2u_i + q(x_i \\ )u_i & = f(x_i \\ ) , & \\quad 1 \\leq i \\leq m-1 \\\\\n",
    "    -D_+u_0 + \\dfrac{h}{2}q(x_0)u_0 + \\lambda_1u_0 & = \\alpha + \\dfrac{h}{2}f(x_0) \\\\\n",
    "    D_-u_m + \\dfrac{h}{2}q(x_m)u_m + \\lambda_2u_m & = \\beta + \\dfrac{h}{2}f(x_m)\n",
    "\\end{align}"
   ]
  },
  {
   "cell_type": "markdown",
   "metadata": {},
   "source": [
    "## 将差分格式改写为线性方程组"
   ]
  },
  {
   "cell_type": "markdown",
   "metadata": {},
   "source": [
    "### 第一个差分格式改写"
   ]
  },
  {
   "cell_type": "markdown",
   "metadata": {},
   "source": [
    "考虑差分格式:\n",
    "\n",
    "\\begin{equation}\n",
    "    \\begin{cases}\n",
    "        -\\delta_x^2u_i + q(x_i)u_i = f(x_i), & 1 \\leq i \\leq m-1, \\\\\n",
    "        -D_+u_0 + \\lambda_1 u_0 = \\alpha, & D_-u_m + \\lambda_2 u_m = \\beta,\n",
    "    \\end{cases}\n",
    "\\end{equation}"
   ]
  },
  {
   "cell_type": "markdown",
   "metadata": {},
   "source": [
    "分别将 $ \\delta_x^2 u_i = \\dfrac{u_{i-1} - 2u_{i} + u_{i+1}}{h^2} \\qquad D_+u_0 = \\dfrac{u_1 - u_0}{h} \\qquad  D_-u_m = \\dfrac{u_m - u_{m-1}}{h}$代入,整理得如下线性方程组:\n",
    "\n",
    "\\begin{equation}\n",
    "    AU = B\n",
    "\\end{equation}\n",
    "\n",
    "\\begin{align}\n",
    "    A = \\begin{pmatrix}\n",
    "    1 + \\lambda_1h & -1 & &  &  &   \\\\\n",
    "    -1 & 2 + h^2q(x_1) & -1 & & &   \\\\\n",
    "      & \\ddots & \\ddots & \\ddots & &\\\\ \n",
    "      &      &   -1 & 2 + h^2q(x_{m-1}) & -1 \\\\\n",
    "      &      &     &     -1        & 1＋\\lambda_2h\n",
    "    \\end{pmatrix}\n",
    "    & \\quad U = \\begin{pmatrix} u_0 \\\\ u_1 \\\\ \\vdots \\\\ u_{m-1} \\\\ u_m \\end{pmatrix} & \\quad\n",
    "    \\begin{pmatrix} h\\alpha \\\\ h^2f(x_1) \\\\ \\ddots \\\\ h^2f(x_{m-1}) \\\\ h\\beta \\end{pmatrix}\n",
    "\\end{align}"
   ]
  },
  {
   "cell_type": "markdown",
   "metadata": {},
   "source": [
    "### 第二个差分格式改写"
   ]
  },
  {
   "cell_type": "markdown",
   "metadata": {},
   "source": [
    "考虑差分格式:\n",
    "\\begin{equation}\n",
    "    \\begin{cases}\n",
    "        -\\delta_x^2u_i + q(x_i \\ )u_i  = f(x_i \\ ) , & \\quad 1 \\leq i \\leq m-1 \\\\\n",
    "        -D_+u_0 + \\dfrac{h}{2}q(x_0)u_0 + \\lambda_1u_0  = \\alpha + \\dfrac{h}{2}f(x_0) ,& \\quad D_-u_m + \\dfrac{h}{2}q(x_m)u_m + \\lambda_2u_m  = \\beta + \\dfrac{h}{2}f(x_m)\n",
    "    \\end{cases}\n",
    "\\end{equation}\n",
    "\n",
    "将其改写为矩阵方程组 $AU = B$ 得："
   ]
  },
  {
   "cell_type": "markdown",
   "metadata": {},
   "source": [
    "\\begin{align}\n",
    "    A = \\begin{pmatrix}\n",
    "    1 + h \\lambda_1 + \\dfrac{h^2}{2}q(x_0) & -1 & &  &  &   \\\\\n",
    "    -1 & 2 + h^2q(x_1) & -1 & & &   \\\\\n",
    "      & \\ddots & \\ddots & \\ddots & &\\\\ \n",
    "      &      &   -1 & 2 + h^2q(x_{m-1}) & -1 \\\\\n",
    "      &      &     &     -1        & 1＋h\\lambda_2 + \\dfrac{h^2}{2}q(x_m)\n",
    "    \\end{pmatrix}\n",
    "    & \\quad U = \\begin{pmatrix} u_0 \\\\ u_1 \\\\ \\vdots \\\\ u_{m-1} \\\\ u_m \\end{pmatrix} & \\quad\n",
    "    \\begin{pmatrix} h\\alpha + \\dfrac{h^2}{2}f(x_0) \\\\ h^2f(x_1) \\\\ \\ddots \\\\ h^2f(x_{m-1}) \\\\ h\\beta + \\dfrac{h^2}{2}f(x_m) \\end{pmatrix}\n",
    "\\end{align}"
   ]
  },
  {
   "cell_type": "markdown",
   "metadata": {},
   "source": [
    "# 数值模拟"
   ]
  },
  {
   "cell_type": "markdown",
   "metadata": {},
   "source": [
    "## 第一个差分格式数值模拟"
   ]
  },
  {
   "cell_type": "markdown",
   "metadata": {},
   "source": [
    "编写程序实现上述第一个差分格式, 并且分别在$ N = 160, 320, 640, 1280 \\ $的网格上求对以下边值问题进行求解, 绘制$ N= 160 $的数值解曲线以及$ N = 160, 320, 640, 1280 \\ $时的误差曲线, 并且利用计算结果验证上述差分格式关于 $ \\| \\cdot\\|_{\\infty} $为 $O(h)$的算法 \n",
    "\n",
    "\\begin{align}\n",
    "    -u^{\\prime \\prime}(x) + u(x) = e^x(sinx - 2cosx), &\\qquad  0 \\leq x \\leq \\pi \\\\\n",
    "    -u^{\\prime}(0) = -1 &, \\qquad u^{\\prime}(\\pi) = -e^{-\\pi}\n",
    "\\end{align}\n",
    "\n",
    "上述问题具有精确解 : $u(x) = e^x\\sin{x}$"
   ]
  },
  {
   "cell_type": "code",
   "execution_count": 1,
   "metadata": {},
   "outputs": [],
   "source": [
    "import numpy as np\n",
    "def thomas(a, b, c, d):\n",
    "    n = len(b)\n",
    "    x = np.zeros_like(b)\n",
    "    y = np.zeros_like(b)\n",
    "    beta = np.zeros_like(b)\n",
    "    beta[0] = b[0]\n",
    "    y[0] = d[0]\n",
    "    for i in range(1, n):\n",
    "        l = a[i-1] / beta[i-1]\n",
    "        beta[i] = b[i] - l*c[i-1]\n",
    "        y[i] = d[i] - l*y[i-1]\n",
    "    x[n-1] = y[n-1]/beta[n-1]\n",
    "    for i in range(n-2, -1, -1):\n",
    "        x[i] = (y[i] - c[i]*x[i+1])/beta[i]\n",
    "    return x"
   ]
  },
  {
   "cell_type": "markdown",
   "metadata": {},
   "source": [
    "### 核心程序"
   ]
  },
  {
   "cell_type": "code",
   "execution_count": 2,
   "metadata": {},
   "outputs": [],
   "source": [
    "def fd1d_bvp_main(model, NS):\n",
    "    x, h = model.init_mesh(NS)\n",
    "    \n",
    "    # 三对角线矩阵\n",
    "    a = -1 * np.ones(NS)\n",
    "    c = -1 * np.ones(NS)\n",
    "    b = 2 + h**2 * model.q(x) \n",
    "    b[0] = 1 + model.coef1 * h\n",
    "    b[-1] = 1 + model.coef2 * h\n",
    "  \n",
    "    # 右端项\n",
    "    rhs = h**2 * model.f(x)\n",
    "    rhs[0] = h * model.alpha\n",
    "    rhs[-1] = h * model.beta\n",
    "    \n",
    "    uh = thomas(a, b, c, rhs)\n",
    "    \n",
    "    return x, uh"
   ]
  },
  {
   "cell_type": "markdown",
   "metadata": {},
   "source": [
    "### 模型参数"
   ]
  },
  {
   "cell_type": "code",
   "execution_count": 3,
   "metadata": {},
   "outputs": [],
   "source": [
    "class Model_Data:\n",
    "    def __init__(self, lbd, rbd, coef1, coef2, alpha, beta):\n",
    "        self.lbd = lbd\n",
    "        self.rbd = rbd\n",
    "        self.coef1 = coef1\n",
    "        self.coef2 = coef2 \n",
    "        self.alpha = alpha\n",
    "        self.beta = beta\n",
    "    \n",
    "    def init_mesh(self, NS):\n",
    "        x = np.linspace(self.lbd, self.rbd, NS + 1)\n",
    "        h = (self.rbd - self.lbd) / NS\n",
    "        return x, h\n",
    "        \n",
    "    def solution(self, x):\n",
    "        return np.exp(x) * np.sin(x)\n",
    "    \n",
    "    def q(self, x):\n",
    "        return np.ones(len(x))\n",
    "    \n",
    "    def f(self, x):\n",
    "        return np.exp(x) * ( np.sin(x) - 2 * np.cos(x) ) "
   ]
  },
  {
   "cell_type": "markdown",
   "metadata": {},
   "source": [
    "### 误差函数"
   ]
  },
  {
   "cell_type": "markdown",
   "metadata": {},
   "source": [
    "误差函数输入: 真解, 数值解, 以及网格数据    \n",
    "返回以下数据:    \n",
    "各个网格结点上误差 : $| u - uh|$   \n",
    "全局 $ L^2 $误差 : $ e_0 = \\sqrt{ h \\sum\\limits_{i = 1}^{m-1}|u(x_i) - u_h(x_i)|^2  }$   \n",
    "定义 $ ehalf = \\sqrt{\\dfrac{1}{h} \\sum\\limits_{i = 1}^m [(u(x_i) - u_h(x_i)) - (u(x_{i-1}) - u_h(x_{i-1})) ]^2}$  \n",
    "全局 $ H_1 $误差 : $ e1 = \\sqrt{ e_0^2 + ehalf^2} $     \n",
    "全局 $ L^{\\infty} 误差$ : $e_{max} = \\max\\limits_{ i = 1, \\cdots, m}{|u(x_i) - uh(x_i)|}$   "
   ]
  },
  {
   "cell_type": "code",
   "execution_count": 4,
   "metadata": {},
   "outputs": [],
   "source": [
    "def fd1d_bvp_error(solution, uh, x):\n",
    "    h = (x[-1] - x[0]) / (len(x) - 1)\n",
    "    u = solution(x)\n",
    "    \n",
    "    ee = u - uh\n",
    "    eeabs = np.abs(ee)\n",
    "    \n",
    "    e0 = h * np.sum(ee ** 2)\n",
    "    ehalf = np.sum((ee[1:] - ee[0:-1]) ** 2) / h\n",
    "    e1 = e0 + ehalf\n",
    "    \n",
    "    e0 = np.sqrt(e0)\n",
    "    e1 = np.sqrt(e1)\n",
    "    emax = np.max( eeabs )\n",
    "    \n",
    "    return e0, e1, emax, eeabs"
   ]
  },
  {
   "cell_type": "markdown",
   "metadata": {},
   "source": [
    "### 测试函数\n",
    "\n",
    "目标： \n",
    "- 分别在 N = 160, 320, 640, 1280 的网格上 对原方程进行求解并记录数值解.\n",
    "- 绘制 N = 160 网格上数值解曲线,并且同时绘制真解曲线进行比较. 此时, 真解的曲线应当在 N = 1280的网格上绘制.\n",
    "- 分别绘制 N = 160, 320, 640, 1280 的网格上的误差曲线.\n",
    "- 计算 $\\| \\cdot \\|_{\\infty}$误差, 并且验证数值解的 $\\| \\cdot \\|_{\\infty}$误差是 $O(h)$的"
   ]
  },
  {
   "cell_type": "code",
   "execution_count": 5,
   "metadata": {},
   "outputs": [],
   "source": [
    "import matplotlib.pyplot as plt\n",
    "\n",
    "def fd1d_bvp_test():\n",
    "    lbd, rbd, coef1, coef2 = 0, np.pi, 0, 0\n",
    "    alpha , beta = -1, -np.exp(np.pi)\n",
    "    NS = [160, 320, 640, 1280]\n",
    "    Uh_rec = [0 for i in range(len(NS))]\n",
    "    mesh_rec = []\n",
    "    eeabs_rec = [ 0 for i in range(len(NS))]\n",
    "    erec = np.zeros((3, len(NS)))\n",
    "    \n",
    "    for i in range(len(NS)):\n",
    "        model = Model_Data(lbd, rbd, coef1, coef2, alpha, beta)\n",
    "        x, uh = fd1d_bvp_main(model, NS[i])\n",
    "        mesh_rec.append(x)\n",
    "        Uh_rec[i] = uh\n",
    "        erec[0, i], erec[1, i], erec[2, i], eeabs_rec[i] = fd1d_bvp_error(model.solution, uh, x)\n",
    "    \n",
    "    plt.figure( figsize = (10, 5) )\n",
    "    plt.subplot(121)\n",
    "    plt.plot(mesh_rec[-1], model.solution(mesh_rec[-1]), color = 'g', label = 'exact solution')\n",
    "    plt.plot(mesh_rec[0], Uh_rec[0], 'r*', label = 'numeric solution N = 160')\n",
    "    plt.legend()\n",
    "    \n",
    "    colors = ['c', 'm', 'g', 'orange'] \n",
    "    markers = ['*', '<', '^', 'x']\n",
    "    lines =  [':', '-.','--','-']\n",
    "    labels = ['error N = 160', 'error N = 320', 'error N = 640', 'error N = 1280']\n",
    "    plt.subplot(122)\n",
    "    for i in range(4):\n",
    "        plt.plot(mesh_rec[i], eeabs_rec[i], color = colors[i], marker = '', ls = lines[i], label = labels[i])\n",
    "    plt.legend()\n",
    "    plt.show()\n",
    "    \n",
    "    emax = erec[2, :]\n",
    "    \n",
    "    print('Emax(h) / Emax(2h)')\n",
    "    for i in range(3):\n",
    "        print(emax[i]/ emax[i+1])"
   ]
  },
  {
   "cell_type": "code",
   "execution_count": 6,
   "metadata": {},
   "outputs": [
    {
     "data": {
      "image/png": "[encoded data removed]",
      "text/plain": [
       "<Figure size 720x360 with 2 Axes>"
      ]
     },
     "metadata": {
      "needs_background": "light"
     },
     "output_type": "display_data"
    },
    {
     "name": "stdout",
     "output_type": "stream",
     "text": [
      "Emax(h) / Emax(2h)\n",
      "2.0046221080974598\n",
      "2.002314414707045\n",
      "2.0011580269488802\n"
     ]
    }
   ],
   "source": [
    "fd1d_bvp_test()"
   ]
  },
  {
   "cell_type": "markdown",
   "metadata": {},
   "source": [
    "## 第二个差分格式数值模拟"
   ]
  },
  {
   "cell_type": "markdown",
   "metadata": {},
   "source": [
    "编写程序实现上述第二个差分格式, 并且分别在$ N = 10, 20, 40, 80, 160 \\ $的网格上求对以下边值问题进行求解, 绘制$ N= 10 $的数值解曲线以及$ N = 10, 20, 40 \\ $时的误差曲线, 并且利用计算结果验证上述差分格式关于 $ \\| \\cdot\\|_{\\infty} $为 $O(h^2)$的算法 \n",
    "\n",
    "\\begin{align}\n",
    "    -u^{\\prime \\prime}(x) + u(x) = e^x(sinx - 2cosx), &\\qquad  0 \\leq x \\leq \\pi \\\\\n",
    "    -u^{\\prime}(0) = -1 &, \\qquad u^{\\prime}(\\pi) = -e^{-\\pi}\n",
    "\\end{align}\n",
    "\n",
    "上述问题具有精确解 : $u(x) = e^x\\sin{x}$"
   ]
  },
  {
   "cell_type": "markdown",
   "metadata": {},
   "source": [
    "### 核心程序"
   ]
  },
  {
   "cell_type": "code",
   "execution_count": 7,
   "metadata": {},
   "outputs": [],
   "source": [
    "def fd1d_bvp_main2(model, NS):\n",
    "    x, h = model.init_mesh(NS)\n",
    "    \n",
    "    # 三对角线矩阵\n",
    "    a = -1 * np.ones(NS)\n",
    "    c = -1 * np.ones(NS)\n",
    "    b = 2 + h**2 * model.q(x) \n",
    "    b[0] = b[0] / 2  + model.coef1 * h\n",
    "    b[-1] = b[-1] / 2 + model.coef2 * h\n",
    "  \n",
    "    # 右端项\n",
    "    rhs = h**2 * model.f(x)\n",
    "    rhs[0] = h * model.alpha + rhs[0] / 2\n",
    "    rhs[-1] = h * model.beta + rhs[-1] / 2\n",
    "    \n",
    "    uh = thomas(a, b, c, rhs)\n",
    "    \n",
    "    return x, uh"
   ]
  },
  {
   "cell_type": "markdown",
   "metadata": {},
   "source": [
    "### 测试程序"
   ]
  },
  {
   "cell_type": "code",
   "execution_count": 8,
   "metadata": {},
   "outputs": [],
   "source": [
    "def fd1d_bvp_test2():\n",
    "    lbd, rbd, coef1, coef2 = 0, np.pi, 0, 0\n",
    "    alpha , beta = -1, -np.exp(np.pi)\n",
    "    NS = [10, 20, 40, 80, 160]\n",
    "    Uh_rec = [0 for i in range(len(NS))]\n",
    "    mesh_rec = []\n",
    "    eeabs_rec = [ 0 for i in range(len(NS))]\n",
    "    erec = np.zeros((3, len(NS)))\n",
    "    \n",
    "    for i in range(len(NS)):\n",
    "        model = Model_Data(lbd, rbd, coef1, coef2, alpha, beta)\n",
    "        x, uh = fd1d_bvp_main2(model, NS[i])\n",
    "        mesh_rec.append(x)\n",
    "        Uh_rec[i] = uh\n",
    "        erec[0, i], erec[1, i], erec[2, i], eeabs_rec[i] = fd1d_bvp_error(model.solution, uh, x)\n",
    "    \n",
    "    plt.figure( figsize = (10, 5) )\n",
    "    plt.subplot(121)\n",
    "    plt.plot(mesh_rec[-1], model.solution(mesh_rec[-1]), color = 'g', label = 'exact solution')\n",
    "    plt.plot(mesh_rec[0], Uh_rec[0], 'r*--', label = 'numeric solution N = 10')\n",
    "    plt.legend()\n",
    "    \n",
    "    colors = ['c', 'm', 'g', 'orange'] \n",
    "    markers = ['*', '<', '^', 'x']\n",
    "    lines =  [':', '-.','--','-']\n",
    "    labels = ['error N = 10', 'error N = 20', 'error N = 40', 'error N = 1280']\n",
    "    plt.subplot(122)\n",
    "    for i in range(3):\n",
    "        plt.plot(mesh_rec[i], eeabs_rec[i], color = colors[i], marker = '', ls = lines[i], label = labels[i])\n",
    "    plt.legend()\n",
    "    plt.show()\n",
    "    \n",
    "    emax = erec[2, :]\n",
    "    \n",
    "    print('Emax(h) / Emax(2h)')\n",
    "    for i in range(4):\n",
    "        print(emax[i]/ emax[i+1])"
   ]
  },
  {
   "cell_type": "code",
   "execution_count": 9,
   "metadata": {},
   "outputs": [
    {
     "data": {
      "image/png": "[encoded data removed]",
      "text/plain": [
       "<Figure size 720x360 with 2 Axes>"
      ]
     },
     "metadata": {
      "needs_background": "light"
     },
     "output_type": "display_data"
    },
    {
     "name": "stdout",
     "output_type": "stream",
     "text": [
      "Emax(h) / Emax(2h)\n",
      "3.9647969420650644\n",
      "3.9911282330653117\n",
      "3.99777756338689\n",
      "3.9994441111781067\n"
     ]
    }
   ],
   "source": [
    "fd1d_bvp_test2()"
   ]
  }
 ],
 "metadata": {
  "kernelspec": {
   "display_name": "Python 3",
   "language": "python",
   "name": "python3"
  },
  "language_info": {
   "codemirror_mode": {
    "name": "ipython",
    "version": 3
   },
   "file_extension": ".py",
   "mimetype": "text/x-python",
   "name": "python",
   "nbconvert_exporter": "python",
   "pygments_lexer": "ipython3",
   "version": "3.7.0"
  },
  "toc": {
   "base_numbering": 1,
   "nav_menu": {},
   "number_sections": true,
   "sideBar": true,
   "skip_h1_title": false,
   "title_cell": "Table of Contents",
   "title_sidebar": "Contents",
   "toc_cell": false,
   "toc_position": {},
   "toc_section_display": true,
   "toc_window_display": true
  }
 },
 "nbformat": 4,
 "nbformat_minor": 2
}
