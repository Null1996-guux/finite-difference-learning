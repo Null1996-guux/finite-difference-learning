{
 "cells": [
  {
   "cell_type": "markdown",
   "metadata": {},
   "source": [
    "本节通过建立差分格式求解一维两点边值问题\n",
    "\n",
    "\\begin{equation}\n",
    "\\begin{cases}\n",
    "  -u^{\\prime \\prime} + q(x)u = f(x) & a<x<b \\\\\n",
    "  u(a) = \\alpha, \\quad u(b) = \\beta\n",
    "\\end{cases}\n",
    "\\end{equation}\n"
   ]
  },
  {
   "cell_type": "markdown",
   "metadata": {},
   "source": [
    "# 常用数值微分公式"
   ]
  },
  {
   "cell_type": "markdown",
   "metadata": {},
   "source": [
    "+ 设$g(x) \\in \\color{red}{C^2[c, c+h]} \\qquad $   则: $g^{\\prime}(c) = \\dfrac{1}{h}[g(c+h) - g(c)] - \\dfrac{h}{2}g^{\\prime \\prime}(\\xi_1) \\quad \\xi_1 \\in (c, c+h) $\n",
    "+ 设$g(x) \\in \\color{red}{C^2[c-h, c]} \\qquad $   则: $g^{\\prime}(c) = \\dfrac{1}{h}[g(c) - g(c-h)] + \\dfrac{h}{2}g^{\\prime \\prime}(\\xi_2) \\quad \\xi_2 \\in (c-h, c)$\n",
    "+ 设$g(x) \\in \\color{red}{C^3[c-h, c+h]} \\qquad $    则: $g^{\\prime}(c) = \\dfrac{1}{2h}[g(c+h) - g(c-h)] - \\dfrac{h^2}{6}g^{\\prime \\prime \\prime}(\\xi_3) \\quad \\xi_3 \\in (c-h, c+h)$\n",
    "+ 设$g(x) \\in \\color{red}{C^4[c-h, c+h]} \\qquad $  则: $g^{\\prime \\prime}(c) = \\dfrac{1}{h^2}[g(c+h) - 2g(c) + g(c-h)] - \\dfrac{h^2}{12}g^{(4)}(\\xi_4) \\quad \\xi_4 \\in (c-h, c+h)$\n",
    "+ 设$g(x) \\in \\color{red}{C^3[c, c+h]} \\qquad $  则: $g^{\\prime}(c) = \\dfrac{2}{h}[\\dfrac{g(c+h) - g(c)}{h} - g^{\\prime}(c)] - \\dfrac{h}{3}g^{\\prime \\prime \\prime}(\\xi_5) \\quad \\xi_5 \\in (c, c+h)$\n",
    "+ 设$g(x) \\in \\color{red}{C^6[c-h, c+h]} \\qquad $  则: $\\dfrac{1}{12}[g^{\\prime \\prime}(c-h) + 10 g^{\\prime \\prime}(c) + g^{\\prime \\prime}(c+h)] = \\dfrac{1}{h^2}[g(c-h)- 2g(c) + g(c+h)] + \\dfrac{h^4}{240}g^{(6)}(\\xi_6) \\quad \\xi_6 \\in (c-h, c+h)$"
   ]
  },
  {
   "cell_type": "markdown",
   "metadata": {},
   "source": [
    "# 差分格式的建立"
   ]
  },
  {
   "cell_type": "markdown",
   "metadata": {},
   "source": [
    "## 将求解区间[a,b]进行网格剖分\n",
    "\n",
    "将区间 $[a, b]$ 作 $m$ 等分， 记 $ h = \\dfrac{b-a}{m}, \\quad x_i = a + ih, \\quad 0 \\leq i \\leq m, \\quad \\Omega_h = \\left\\lbrace x_i | 0 \\leq i \\leq m \\right\\rbrace$.\n",
    "\n",
    "称 $h$ 为 $\\color{red}{网格步长}$, $x_i$ 为$\\color{red}{网格结点}$, $\\Omega_h$ 为 $\\color{red}{网格}$,称定义在网格 $\\Omega_h$ 上的函数为$\\color{red}{网格函数}$.   \n",
    "\n",
    "设 $ v = \\left\\lbrace v_i| 0 \\leq i \\leq m \\right\\rbrace \\qquad$ 为 $\\Omega_h$ 上的网格函数,引入如下记号:\n",
    "\n",
    "$V_{i - 1/2} = \\dfrac{1}{2}(V_i + V_{i-1}), \\quad \\delta_x v_{i - 1/2} = \\dfrac{1}{h}(v_i - v_{i-1}), \\quad \\delta_x^2v_i = \\dfrac{1}{h} \\left(\\delta_x v_{i + 1/2} - \\delta_x v_{i - 1/2} \\ \\right)$\n",
    "\n",
    "$D_+v_i = \\dfrac{1}{h} ( v_{i+1} - v_{i} ), \\quad D_-v_i = \\dfrac{1}{h} ( v_{i} - v_{i-1} )$\n",
    "\n",
    "## 将方程离散化建立差分格式\n",
    "\n",
    "在网格结点上考虑定解问题,有:\n",
    "\n",
    "\\begin{equation}\n",
    "\\begin{cases}\n",
    "  -u^{\\prime \\prime}(x_i) + q(x_i)u(x_i) = f(x_i) & 1 \\leq i \\leq m-1 \\\\\n",
    "  u(x_0) = \\alpha, \\quad u(x_m) = \\beta\n",
    "\\end{cases}\n",
    "\\end{equation}\n",
    "\n",
    "定义网格函数 $U = \\left\\lbrace U_i | 0 \\leq i \\leq m \\right\\rbrace$, 其中:\n",
    "\\begin{equation}\n",
    "    U_i = u(x_i), \\quad 0 \\leq i \\leq m \n",
    "\\end{equation}\n",
    "\n",
    "利用数值微分公式:\n",
    "\n",
    "\\begin{align}\n",
    "    u^{\\prime \\prime}(x_i) & = \\dfrac{1}{h^2}[u( x_{i - 1 } ) - 2u( x_i ) + u( x_{i+1} )] - \\dfrac{h^2}{12}u^{(4)}(\\xi_i)\\\\\n",
    "        & = \\delta_x^2U_i - \\dfrac{h^2}{12}u^{(4)}(\\xi_i) \\quad \\xi_i \\in (x_{i-1}, x_{i+1})\n",
    "\\end{align}\n",
    "\n",
    "将上式代入方程得:\n",
    "\\begin{equation}\n",
    "\\begin{cases}\n",
    "    -\\delta_x^2U_i + q(x_i)U_i = f(x_i) - \\dfrac{h^2}{12}u^{(4)}(\\xi_i), \\quad 1 \\leq i \\leq m-1 \\\\ \n",
    "    U_0 = \\alpha, \\quad U_m = \\beta\n",
    "\\end{cases}\n",
    "\\end{equation}\n",
    "\n",
    "忽略高阶小量$ - \\dfrac{h^2}{12}u^{(4)}(\\xi_i) $ 并且利用 $u_i$ 代替 $U_i$得到如下近似格式\n",
    "\n",
    "\\begin{equation}\n",
    "\\begin{cases}\n",
    "    -\\delta_x^2u_i + q(x_i)u_i = f(x_i)  , \\quad 1 \\leq i \\leq m-1 \\\\ \n",
    "    u_0 = \\alpha, \\quad u_m = \\beta\n",
    "\\end{cases}\n",
    "\\end{equation}\n",
    "\n",
    "将上式称为求解原系统的$ \\color{red}{差分格式}$\n",
    "\n",
    "以上格式中共有 $m+1$ 个方程以及 $m+1$ 个待定量 $u_0, u_1, \\cdots, u_m$, 目标即求出 $ (u_0, u_1, \\cdots, u_m) \\qquad$, 将 $ u_i $ 视作  $ u(x_i) $ 的近似值, 容易注意到, 利用边界条件, 可以将原方程看成关于 $(u_1, u_2, \\cdots, u_{m-1} ) \\qquad$ 的 $ m-1 $ 阶线性方程组."
   ]
  },
  {
   "cell_type": "markdown",
   "metadata": {},
   "source": [
    "# 差分格式求解\n",
    "## 将方程改写为矩阵方程\n",
    "\n",
    "可以证明,上述建立的差分格式的解存在唯一, 下面考虑差分格式的求解.\n",
    "\n",
    "重复原系统的差分格式如下:\n",
    "\n",
    "\\begin{equation}\n",
    "\\begin{cases}\n",
    "    -\\delta_x^2u_i + q(x_i)u_i = f(x_i)  , \\quad 1 \\leq i \\leq m-1 \\\\ \n",
    "    u_0 = \\alpha, \\quad u_m = \\beta\n",
    "\\end{cases}\n",
    "\\end{equation}\n",
    "\n",
    "对第一个式子将 $ \\delta_x^2u_i $ 展开:\n",
    "\n",
    "\\begin{equation}\n",
    "    \\delta_x^2u_i = \\dfrac{1}{h^2}(u_{i-1} - 2u_i + u_{i+1})\n",
    "\\end{equation}\n",
    "\n",
    "代入原方程中并且在两边同时乘以$ h^2 $得:\n",
    "\n",
    "\\begin{equation}\n",
    "    -u_{i-1} + [2 + h^2q(x_i)]u_i- u_{i+1} = h^2f(x_i)\n",
    "\\end{equation}\n",
    "\n",
    "结合边界条件,可以将上述方程组写为如下矩阵形式:\n",
    "\n",
    "\\begin{equation}\n",
    "    \\begin{pmatrix}\n",
    "    1 & 0 & & & & \\\\\n",
    "    -1 & 2 + h^2q(x_1) & -1 & & &\\\\\n",
    "     & \\ddots & \\ddots & \\ddots & \\\\\n",
    "     & & - 1 & 2 + h^2q(x_{m-1}) & -1 \\\\\n",
    "     & & & 0 & 1\n",
    "    \\end{pmatrix}\n",
    "    \\begin{pmatrix}\n",
    "    u_0 \\\\u_1 \\\\ \\vdots \\\\ u_{m-1} \\\\ u_m\n",
    "    \\end{pmatrix} = \n",
    "    \\begin{pmatrix}\n",
    "    \\alpha \\\\ h^2f(x_1) \\\\ \\vdots \\\\ h^2f(x_{m-1}) \\\\ \\beta \n",
    "    \\end{pmatrix}\n",
    "\\end{equation}\n",
    "\n",
    "或者进一步整理为：\n",
    "\\begin{equation}\n",
    "\\begin{pmatrix}\n",
    "    2 + h^2q(x_1) & -1 & & & \\\\\n",
    "    -1 & 2 + h^2q(x_2) & -1 & & \\\\\n",
    "      & \\ddots & \\ddots & \\ddots & &\\\\\n",
    "      &      &  -1  & 2 + h^2q(x_{m-2}\\ ) & -1 \\\\\n",
    "      &      &    &    -1  & 2 + h^2q(x_{m-1}\\ )\n",
    "\\end{pmatrix}\n",
    "\\begin{pmatrix}\n",
    "    u_1 \\\\ u_2 \\\\ \\vdots \\\\ u_{m-2} \\\\u_{m-1}\n",
    "\\end{pmatrix}\n",
    "= \\begin{pmatrix}\n",
    "    h^2f(x_1) + \\alpha \\\\\n",
    "     h^2f(x_2) \\\\\n",
    "     \\ddots \\\\\n",
    "     h^2f(x_{m-2}\\ ) \\\\\n",
    "     h^2f(x_{m-1} + \\beta \\ )\n",
    "\\end{pmatrix}\n",
    "\\end{equation}\n",
    "\n",
    "称上述方程为$ \\color{red}{三对角方程}$\n",
    "\n",
    "## 三对角方程求解\n",
    "\n",
    "针对三对角方程的求解,可以采用$\\color{red}{追赶法}$又称$\\color{red}{Thomas算法}$进行求解,对于如下形式的三对角方程,追赶法算法如下:\n",
    "\n",
    "\\begin{equation}\n",
    "    \\begin{pmatrix}\n",
    "    b1 & c1 &   &   &     \\\\\n",
    "    a2 & b2 & c2 &   &     \\\\\n",
    "      & a3 & b3 &   &     \\\\\n",
    "      &\\ddots & \\ddots & \\ddots &  \\\\\n",
    "      &     &  a_{n-1} & b_{n-1} & c_{n-1}  \\\\\n",
    "      &     &       &  a_n   & b_n \n",
    "    \\end{pmatrix}\n",
    "\\end{equation}\n",
    "\n",
    "消元过程:\n",
    "\n",
    "\\begin{equation}\n",
    "    \\begin{cases}\n",
    "    \\beta_1 = b_1, & y_1 = d_1 ;\\\\\n",
    "    l_i = \\dfrac{a_i}{\\beta_{i - 1}} , & \\beta_i = b_i - l_ic_{i - 1} \\ , & y_i = d_i - l_iy_{i-1} & (i = 2,3, \\cdots, n)\n",
    "    \\end{cases}\n",
    "\\end{equation}\n",
    "\n",
    "回代过程:\n",
    "\n",
    "\\begin{equation}\n",
    "    \\begin{cases}\n",
    "    x_n = y_n / \\beta_n \\ ,\\\\\n",
    "    x_i = (y_i - c_ix_{i+1} \\quad) / \\beta_i \\, & (i = n-1, n-2, \\cdots, 1) \n",
    "    \\end{cases}\n",
    "\\end{equation}\n"
   ]
  },
  {
   "cell_type": "markdown",
   "metadata": {},
   "source": [
    "追赶法的程序实现如下:"
   ]
  },
  {
   "cell_type": "code",
   "execution_count": 1,
   "metadata": {},
   "outputs": [],
   "source": [
    "import numpy as np\n",
    "def thomas(a, b, c, d):\n",
    "    n = len(b)\n",
    "    x = np.zeros_like(b)\n",
    "    y = np.zeros_like(b)\n",
    "    beta = np.zeros_like(b)\n",
    "    beta[0] = b[0]\n",
    "    y[0] = d[0]\n",
    "    for i in range(1, n):\n",
    "        l = a[i-1] / beta[i-1]\n",
    "        beta[i] = b[i] - l*c[i-1]\n",
    "        y[i] = d[i] - l*y[i-1]\n",
    "    x[n-1] = y[n-1]/beta[n-1]\n",
    "    for i in range(n-2, -1, -1):\n",
    "        x[i] = (y[i] - c[i]*x[i+1])/beta[i]\n",
    "    return x"
   ]
  },
  {
   "cell_type": "markdown",
   "metadata": {},
   "source": [
    "测试:    \n",
    "求解三对角方程组:\n",
    "    \\begin{equation}\n",
    "    A = \\begin{pmatrix}\n",
    "    2 & -1 & 0 & 0 & 0 \\\\\n",
    "    -1 & 2 & -1 & 0 & 0 \\\\\n",
    "    0 & -1 & 2 & -1 & 0 \\\\\n",
    "    0 & 0 & -1 & 2 & -1 \\\\\n",
    "    0 & 0 & 0 & -1 & 2 \n",
    "    \\end{pmatrix}\n",
    "    \\quad\n",
    "    b = \\begin{pmatrix} \n",
    "    1 \\\\ 0 \\\\ 1 \\\\ 0 \\\\ 0\n",
    "    \\end{pmatrix}\n",
    "    \\end{equation}\n",
    " 预计求解结果:\n",
    "  \n",
    "\\begin{equation}\n",
    "x = \\begin{pmatrix}\n",
    " 1.3333333\\\\\n",
    " 1.6666667\\\\\n",
    " 2.0000000\\\\\n",
    " 1.3333333\\\\\n",
    " 1.6666667\n",
    "\\end{pmatrix}\n",
    "\\end{equation}"
   ]
  },
  {
   "cell_type": "code",
   "execution_count": 2,
   "metadata": {},
   "outputs": [
    {
     "data": {
      "text/plain": [
       "array([1.33333333, 1.66666667, 2.        , 1.33333333, 0.66666667])"
      ]
     },
     "execution_count": 2,
     "metadata": {},
     "output_type": "execute_result"
    }
   ],
   "source": [
    "a = np.ones(4) * -1\n",
    "b = np.ones(5) * 2\n",
    "c = np.ones(4) * -1\n",
    "d = np.array([1, 0, 1, 0, 0])\n",
    "x = thomas(a, b, c, d)\n",
    "x"
   ]
  },
  {
   "cell_type": "markdown",
   "metadata": {},
   "source": [
    "# 算例:   \n",
    "编写一维二阶椭圆方程两点边值问题上述有限差分格式的程序   \n",
    "并利用差分格式求解两点边值问题:\n",
    "\\begin{equation}\n",
    "\\begin{cases}\n",
    "      -u^{\\prime \\prime}(x) + u(x) = e^x(\\sin{x} - 2\\cos{x}) & 0<x<\\pi \\\\\n",
    "      u(0) = 0, \\quad u(\\pi) = 0\n",
    "\\end{cases}\n",
    "\\end{equation}\n",
    "分别利用 10， 20， 40， 80， 160的等距网格对上述方程进行求解，并且编写测试程序进行误差分析，绘制误差曲线    \n",
    "已知上述两点边值问题的精确解为：$u(x) = e^x\\sin{x}$"
   ]
  },
  {
   "cell_type": "markdown",
   "metadata": {},
   "source": [
    "对上述方程再次重复有限差分流程如下:\n",
    "## 对求解区间进行网格剖分\n",
    "将区间 $[0, 1]$ 进行 $N$ 等分, $ h = \\dfrac{1}{N} \\ ,\\ x_i =  ih \\ (i = 0, 1, \\cdots, N)$ 得到网格 $ \\Omega_i = \\left\\lbrace x_i | i = 1, 2 ,\\cdots, N\\right\\rbrace$\n",
    "\n",
    "## 对方程进行有限差分离散得离散后的方程:\n",
    "\\begin{equation}\n",
    "    \\begin{cases}\n",
    "        -\\delta^2_xu_i + u_i = e^{x_i}(\\sin{x_i}- 2\\cos{x_i}) & 1 \\leq i \\leq N-1 \\\\\n",
    "        u_0 = u_1 =0\n",
    "    \\end{cases}\n",
    "\\end{equation}\n",
    "\n",
    "## 改写方程为矩阵形式\n",
    "将 $ \\delta_x^2u_i = \\dfrac{u_{i-1}- 2u_i+u_{i+1}}{h^2} $代入原方程整理得三对角方程组：\n",
    "\\begin{equation}\n",
    "\\begin{pmatrix}\n",
    "    2 + h^2x_1 & -1 & & & \\\\\n",
    "    -1 & 2 + h^2x_2 & -1 & & \\\\\n",
    "      & \\ddots & \\ddots & \\ddots & &\\\\\n",
    "      &      &  -1  & 2 + h^2x_{m-2} & -1 \\\\\n",
    "      &      &    &    -1  & 2 + h^2x_{m-1}\n",
    "\\end{pmatrix}\n",
    "\\begin{pmatrix}\n",
    "    u_1 \\\\ u_2 \\\\ \\vdots \\\\ u_{m-2} \\\\u_{m-1}\n",
    "\\end{pmatrix}\n",
    "= \\begin{pmatrix}\n",
    "    h^2f(x_1) + \\alpha \\\\\n",
    "     h^2f(x_2) \\\\\n",
    "     \\ddots \\\\\n",
    "     h^2f(x_{m-2}\\ ) \\\\\n",
    "     h^2f(x_{m-1} + \\beta \\ )\n",
    "\\end{pmatrix}\n",
    "\\end{equation}"
   ]
  },
  {
   "cell_type": "markdown",
   "metadata": {},
   "source": [
    "# 程序编写"
   ]
  },
  {
   "cell_type": "markdown",
   "metadata": {},
   "source": [
    "## 模型数据"
   ]
  },
  {
   "cell_type": "code",
   "execution_count": 3,
   "metadata": {},
   "outputs": [],
   "source": [
    "class Model_Data:\n",
    "###############################################\n",
    "# Model_Data 模型数据 \n",
    "# \n",
    "# Input\n",
    "# -------------\n",
    "# lbd: 区间左边界点\n",
    "# rbd：区间右边界点\n",
    "#\n",
    "#\n",
    "    def __init__(self, lbd, rbd):\n",
    "        self.lbd = lbd\n",
    "        self.rbd = rbd\n",
    "    \n",
    "    def mesh_init(self,NS):\n",
    "        x = np.linspace(self.lbd, self.rbd, NS+1)\n",
    "        h = (self.rbd - self.lbd) / NS\n",
    "        return x, h\n",
    "    \n",
    "    def solution(self,x):\n",
    "        return np.exp(x)*np.sin(x)\n",
    "    \n",
    "    def q(self,x):\n",
    "        return np.ones_like(x)\n",
    "    \n",
    "    def f(self,x):\n",
    "        return np.exp(x)*(np.sin(x) - 2*np.cos(x))"
   ]
  },
  {
   "cell_type": "markdown",
   "metadata": {},
   "source": [
    "## 核心程序编写"
   ]
  },
  {
   "cell_type": "code",
   "execution_count": 4,
   "metadata": {},
   "outputs": [],
   "source": [
    "###############################################\n",
    "# fd1d_bvp_test 测试程序 \n",
    "# \n",
    "# Input\n",
    "#---------------------\n",
    "# model: 模型对象\n",
    "# NS: 等距网格的段数\n",
    "#\n",
    "# Output\n",
    "#---------------------\n",
    "# x: 网格\n",
    "# uh: 网格上的数值解\n",
    "#\n",
    "#\n",
    "def fd1d_bvp(model, NS):\n",
    "    x, h = model.mesh_init(NS)\n",
    "    \n",
    "    # 创建上述差分格式的三对角系数矩阵:\n",
    "    a = -1 * np.ones(NS - 2)\n",
    "    b = 2 + h**2 * model.q(x[1: -1])\n",
    "    c = -1 * np.ones(NS - 2)\n",
    "    \n",
    "    # 创建差分格式的右端项:\n",
    "    rhs = h**2 * model.f(x[1: -1])\n",
    "    rhs[0] = h**2 * model.f(x[1]) + model.solution(x[0]) \n",
    "    rhs[-1] = h**2 * model.f(x[-2]) + model.solution(x[-1])\n",
    "    \n",
    "    # 在网格结点上求得数值解\n",
    "    uh = np.zeros(NS + 1)\n",
    "    uh[1: NS] = thomas(a, b, c, rhs)\n",
    "    uh[0] = model.solution(x[0])\n",
    "    uh[-1] = model.solution(x[-1])\n",
    "    \n",
    "    return x, uh"
   ]
  },
  {
   "cell_type": "markdown",
   "metadata": {},
   "source": [
    "## 误差程序编写"
   ]
  },
  {
   "cell_type": "code",
   "execution_count": 5,
   "metadata": {},
   "outputs": [],
   "source": [
    "def fd1d_bvp_error(solution, uh, x):\n",
    "    NN = len(x)\n",
    "    h = (x[-1] - x[0])/(NN - 1)\n",
    "    u = solution(x)\n",
    "\n",
    "    ee = u - uh\n",
    "    ee2 = np.abs(u - uh)\n",
    "    \n",
    "    e0 = h * np.sum(ee ** 2)\n",
    "    e1 = np.sum( (ee[1:] - ee[0:-1])**2 )/ h\n",
    "    e1 = e1 + e0\n",
    "    \n",
    "    e0 = np.sqrt(e0)\n",
    "    e1 = np.sqrt(e1)\n",
    "    e_max = np.max(np.abs(ee))\n",
    "    \n",
    "    return ee2, e0,e1,e_max    "
   ]
  },
  {
   "cell_type": "markdown",
   "metadata": {},
   "source": [
    "## 测试程序编写"
   ]
  },
  {
   "cell_type": "code",
   "execution_count": 6,
   "metadata": {},
   "outputs": [],
   "source": [
    "import matplotlib.pyplot as plt\n",
    "###############################################\n",
    "# fd1d_bvp_test 测试程序 \n",
    "# \n",
    "#\n",
    "def fd1d_bvp_test():\n",
    "    # 初始化数据\n",
    "    NS = [10, 20, 40, 80, 160]\n",
    "    lbd = 0\n",
    "    rbd = np.pi\n",
    "    \n",
    "    model = Model_Data(lbd, rbd)\n",
    "    \n",
    "    e_max = np.zeros(5)\n",
    "    e0 = np.zeros(5)\n",
    "    e1 = np.zeros(5)\n",
    "    ee = [0 for i in range(5)]\n",
    "    X = []\n",
    "    U = []\n",
    "    \n",
    "    # 计算误差\n",
    "    for i in range(5):\n",
    "        x,uh = fd1d_bvp(model, NS[i])\n",
    "        ee[i], e0[i], e1[i], e_max[i] = fd1d_bvp_error(model.solution, uh, x)\n",
    "        X.append(x)\n",
    "        U.append(uh)\n",
    "    \n",
    "    # 在最后一个网格上求解精确解\n",
    "    u = model.solution(X[-1])\n",
    "    \n",
    "    # 可视化真解以及数值解\n",
    "    fig = plt.figure(figsize=(10, 5))\n",
    "    ax = plt.subplot(121)\n",
    "    lss = ['-','-.', ':', '-.', ':']\n",
    "    colors = ['c', 'b', 'y', 'g', 'm'] \n",
    "    markers = ['o', '+', '<', 'x', '']\n",
    "    labels = ['NS = 10', 'NS = 20', 'NS = 40', 'NS = 80', 'NS = 160']\n",
    "    labels2 = ['error_NS = 10', 'error_NS = 20', 'error_NS = 40', 'error_NS = 80', 'error_NS = 160']\n",
    "    # 显示真解以及在不同网格下的数值解\n",
    "    ax.plot(X[4], u, color = 'r', marker = 'x', label = 'exact solution')\n",
    "    for j in range(2):\n",
    "        ax.plot(X[j], U[j], ls = lss[j], color = colors[j], marker = markers[j], label = labels[j])\n",
    "    plt.legend() \n",
    "    ax2 = plt.subplot(1, 2, 2)\n",
    "    # 绘制误差曲线\n",
    "    for k in range(5):\n",
    "        ax2.plot(X[k], ee[k], color = colors[k], marker = markers[k], label = labels2[k])\n",
    "    plt.legend()\n",
    "    plt.show()\n",
    "    \n",
    "    print('emax = ', e_max)\n",
    "    print('e_0 = ', e0)\n",
    "    print('e_1 = ', e1)\n",
    "    for i in range(len(e_max) -1):\n",
    "        print(e_max[i] / e_max[i+1])\n",
    "        "
   ]
  },
  {
   "cell_type": "code",
   "execution_count": 7,
   "metadata": {},
   "outputs": [
    {
     "data": {
      "image/png": "[encoded data removed]",
      "text/plain": [
       "<Figure size 720x360 with 2 Axes>"
      ]
     },
     "metadata": {
      "needs_background": "light"
     },
     "output_type": "display_data"
    },
    {
     "name": "stdout",
     "output_type": "stream",
     "text": [
      "emax =  [0.09752619 0.02438907 0.00611501 0.00152864 0.00038215]\n",
      "e_0 =  [0.11920166 0.02977152 0.00744093 0.00186011 0.00046502]\n",
      "e_1 =  [0.17422736 0.04359787 0.01090174 0.00272557 0.0006814 ]\n",
      "3.9987655891007594\n",
      "3.988397028488046\n",
      "4.0002964956885725\n",
      "4.000074425074834\n"
     ]
    }
   ],
   "source": [
    "fd1d_bvp_test()"
   ]
  },
  {
   "cell_type": "markdown",
   "metadata": {},
   "source": [
    "由上述结果可以看出， 差分格式关于范数 $ \\|\\cdot\\|_\\infty $ 二阶收敛， 结果和实际的估计相符合。"
   ]
  },
  {
   "cell_type": "markdown",
   "metadata": {},
   "source": [
    "# Richardson 外推法"
   ]
  },
  {
   "cell_type": "markdown",
   "metadata": {},
   "source": [
    "## 外推法基本思路\n",
    "设未知量 $p$ 的一个近似值为 $ p_0(h) $ 并且当 $ h \\rightarrow 0 $ 时, 有 $p_0(h) = p + \\alpha h^2$, 则有\n",
    "\n",
    "\\begin{equation}\n",
    "    p_1(h) = \\dfrac{4}{3}p_0(\\frac{h}{2}) - \\dfrac{1}{3}p_0(h) = p + O(h^4)\n",
    "\\end{equation}\n",
    "\n",
    "在差分方法中,记 $h$ 为步长,所得差分格式的解为 $ \\quad u_i(h), \\ 0 \\leq i \\leq m$ 有如下定理:\n",
    "\n",
    "设两点边值问题 \n",
    "\n",
    "\\begin{equation}\n",
    "    \\begin{cases}\n",
    "        - w^{\\prime \\prime}(x) +q(x)w(x) = \\dfrac{1}{12}u^{(4)}(x), \\quad  a < x < b \\\\\n",
    "        w(a) = 0,  \\quad w(b) = 0\n",
    "    \\end{cases}\n",
    "\\end{equation}\n",
    "\n",
    "具有光滑解, 则\n",
    "\\begin{equation}\n",
    "    \\max\\limits_{0 \\leq i \\leq m} \\quad \\left|u(x_i)-[\\dfrac{4}{3}u_{2i} \\ (\\dfrac{h}{2}) - \\dfrac{1}{3}u_i(h)] \\right| = O(h^4)\n",
    "\\end{equation}"
   ]
  },
  {
   "cell_type": "markdown",
   "metadata": {},
   "source": [
    "## 数值模拟\n",
    "利用上面的例子,编写 $ Richardson $ 外推法的程序, 分别在 $ N =10, 20, 40, 80, 160 $ 的网格上利用 $ Richardson $ 外推\n",
    "法进行求解上述方程; \n",
    "\n",
    "绘制 $ N = 10 $ 时的数值解曲线; $ N = 10, 20, 40 $ 的误差曲线, 并且验证 $ Richardson $ 外推法\n",
    "关于 $ \\| \\cdot \\|_{\\infty} $ 范数是 $O(h^4)$ 算法"
   ]
  },
  {
   "cell_type": "markdown",
   "metadata": {},
   "source": [
    "## $ Richardson $ 外推法程序编写"
   ]
  },
  {
   "cell_type": "code",
   "execution_count": 8,
   "metadata": {},
   "outputs": [],
   "source": [
    "def richardson_fd1d_bvp(model, NS):\n",
    "    # 获取 N = NS, N = 2NS 段网格上的数值解\n",
    "    x1, uh1 = fd1d_bvp(model, NS)\n",
    "    x2, uh2 = fd1d_bvp(model, 2 * NS)\n",
    "    # 在 N = NS 的网格上使用 Richardson 外推\n",
    "    x = x1\n",
    "    uh = (4 / 3) * uh2[::2] - (1 / 3) * uh1\n",
    "    return x, uh"
   ]
  },
  {
   "cell_type": "markdown",
   "metadata": {},
   "source": [
    "##  $ Richardson $ 外推法测试程序编写"
   ]
  },
  {
   "cell_type": "code",
   "execution_count": 9,
   "metadata": {},
   "outputs": [],
   "source": [
    "def richardson_test():\n",
    "    # 初始化\n",
    "    NS = [10, 20, 40, 80, 160]\n",
    "    lbd = 0\n",
    "    rbd = np.pi\n",
    "    model = Model_Data(lbd, rbd)\n",
    "        \n",
    "    e0 = np.zeros(5)\n",
    "    e1 = np.zeros(5)\n",
    "    e_max = np.zeros(5)\n",
    "    ee = [0 for i in range(5)]\n",
    "    X = []\n",
    "    UH = []\n",
    "    \n",
    "    for i in range(5):\n",
    "        x, uh = richardson_fd1d_bvp(model, NS[i])  # 拿到网格和数值解\n",
    "        ee[i], e0[i], e1[i], e_max[i] = fd1d_bvp_error(model.solution, uh, x)\n",
    "        X.append(x)\n",
    "        UH.append(uh)\n",
    "    \n",
    "    # 在最后一个网格上计算真解\n",
    "    u = model.solution(X[-1])\n",
    "    \n",
    "    # 可视化\n",
    "    # 绘制真解图像\n",
    "    fig = plt.figure(figsize = (10, 5))\n",
    "    ax1 = plt.subplot(121)\n",
    "    ax1.plot(X[-1], u, color = \"r\", label = \"exact_solution\")\n",
    "    ax1.plot(X[0], UH[0], ls = '--', color = 'c', marker = '<', label = \"NS = 10\")\n",
    "    ax1.legend()\n",
    "    \n",
    "    # 绘制误差曲线\n",
    "    colors = ['g', 'm', 'c']\n",
    "    lss = ['--', '-.', ':']\n",
    "    markers = ['*', '^', 'x']\n",
    "    labels = ['error_NS = 10', 'error_NS = 20', 'error_NS = 40']\n",
    "    ax2 = plt.subplot(122)\n",
    "    for i in range(3):\n",
    "        ax2.plot(X[i], ee[i], color = colors[i], ls = lss[i], marker = markers[i], label = labels[i])\n",
    "    ax2.legend(loc = 'upper left')\n",
    "    plt.show()     \n",
    "    \n",
    "    # 计算最大值范数的变化\n",
    "    print(\"h          E_max(2h) / E_max(h)\")\n",
    "    for i in range(4):\n",
    "        print(\"pi / \" + str((20 * (2**i))), \"  \" ,e_max[i] / e_max[i+1])"
   ]
  },
  {
   "cell_type": "code",
   "execution_count": 10,
   "metadata": {},
   "outputs": [
    {
     "data": {
      "image/png": "[encoded data removed]",
      "text/plain": [
       "<Figure size 720x360 with 2 Axes>"
      ]
     },
     "metadata": {
      "needs_background": "light"
     },
     "output_type": "display_data"
    },
    {
     "name": "stdout",
     "output_type": "stream",
     "text": [
      "h          E_max(2h) / E_max(h)\n",
      "pi / 20    14.740939191102909\n",
      "pi / 40    15.894095685649912\n",
      "pi / 80    15.973905170133767\n",
      "pi / 160    15.994928802515686\n"
     ]
    }
   ],
   "source": [
    "richardson_test()"
   ]
  },
  {
   "cell_type": "markdown",
   "metadata": {},
   "source": [
    "# 紧差分格式"
   ]
  },
  {
   "cell_type": "markdown",
   "metadata": {},
   "source": [
    " 设 $ w = \\left\\lbrace w_i | 0 \\leq i \\leq m \\right\\rbrace  \\in V_h $  定义如下算子 $\\mathcal{A}$:\n",
    " \n",
    " \\begin{equation}   \n",
    "    (\\mathcal{A}w)_i = \\begin{cases}\n",
    "        \\dfrac{1}{12}(w_{i-1}+10w_i+w_{i+1}), & 1 \\leq i \\leq m-1, \\\\ \n",
    "        w_i, & i = 0, m.\n",
    "    \\end{cases}\n",
    " \\end{equation}\n",
    " \n",
    " 在方程\n",
    " \\begin{equation}\n",
    "      -u^{\\prime \\prime}(x_i) + q(x_i)u(x_i) = f(x_i), \\quad 1 \\leq i \\leq m-1 \n",
    " \\end{equation}\n",
    " \n",
    " 两端同时用上述算子进行作用得到:\n",
    "  \\begin{equation}\n",
    "      -\\mathcal{A}u^{\\prime \\prime}(x_i) + \\mathcal{A}[q(x_i)u(x_i)] = \\mathcal{A}f(x_i), \\quad 1 \\leq i \\leq m-1 \n",
    " \\end{equation}\n",
    " \n",
    " 通过计算,整理可得如下差分格式::\n",
    " \\begin{equation}\n",
    "     -\\delta_x^2u_i + \\dfrac{1}{12}[q(x_{i-1})u_{i-1} + 10 q(x_i)u_i + q(x_{i+1})u_{i+1}] = \\dfrac{1}{12}[f(x_{i-1}) + 10f(x_i) + f(x_{i+1})]\n",
    " \\end{equation}\n",
    " \n",
    " 将上述方程改写为矩阵形式得:\n",
    " \\begin{equation}\n",
    " D = \\begin{pmatrix}\n",
    "      -24 - 10h^2q(x_1) & 12-h^2q(x_2) & & & \\\\\n",
    "    12 - h^2q(x_1) & -24 - 10h^2q(x_2) & 12-h^2q(x_3) & & \\\\\n",
    "      & \\ddots & \\ddots & \\ddots & &\\\\\n",
    "      &      &  12-h^2q(x_{m-3}\\ )  & -24 - 10h^2q(x_{m-2}\\ ) & 12 - h^2q(x_{m-1} \\ ) \\\\\n",
    "      &      &    &   12 - h^2q(x_{m-2} \\ ) &  -24 - 10h^2q(x_{m-1} \\ )\n",
    " \\end{pmatrix}\n",
    " \\end{equation}\n",
    " \n",
    "\\begin{equation}\n",
    "    u = \\begin{pmatrix}\n",
    "    u_1 \\\\ u_2 \\\\ \\vdots \\\\ u_{m-2} \\\\u_{m-1}\n",
    "    \\end{pmatrix}\n",
    "    \\quad\n",
    "    b = \\begin{pmatrix}\n",
    "    - h^2[f(x_0) + 10f(x_1) + f(x_2)] - [12 - h^2q(x_0)]\\alpha \\\\\n",
    "    - h^2[f(x_1) + 10f(x_2) + f(x_3)] \\\\\n",
    "    \\ddots \\\\\n",
    "    - h^2[f(x_{m-3}\\ ) + 10f(x_{m-2}\\ ) + f(x_{m-1} \\ )] \\\\\n",
    "    - h^2[f(x_{m-2}\\ ) + 10f(x_{m-1}\\ ) + f(x_{m} \\ )] - [12 - h^2q(x_m)]\\beta\n",
    "    \\end{pmatrix}\n",
    "\\end{equation}\n",
    "\n",
    "称上述格式为 $\\color{red}{紧差分格式}$"
   ]
  },
  {
   "cell_type": "markdown",
   "metadata": {},
   "source": [
    "## 紧差分格式的数值模拟"
   ]
  },
  {
   "cell_type": "markdown",
   "metadata": {},
   "source": [
    "编写紧差分格式的程序, 利用上述例子进行数值模拟, 分别在 $ N = 10, 20, 40, 80, 160 $ 的网格上利用紧差分格式求解前面例子.\n",
    "\n",
    "绘制 $ N = 10 $ 时的解曲线, 绘制 $ N = 10, 20, 40 $时的误差曲线, 并通过数值模拟验证紧差分格式 $ \\|\\cdot\\|_{\\infty} $范数下误差具有 $ O(h^4) $的收敛性"
   ]
  },
  {
   "cell_type": "markdown",
   "metadata": {},
   "source": [
    "## 紧差分格式核心程序编写"
   ]
  },
  {
   "cell_type": "code",
   "execution_count": 11,
   "metadata": {},
   "outputs": [],
   "source": [
    "def compact_fd1d_bvp(model, NS):\n",
    "    # 获取网格\n",
    "    x, h = model.mesh_init(NS)\n",
    "    \n",
    "    # 创建三对角线系数矩阵\n",
    "    a = 12 - h**2 * model.q(x[1:-2])\n",
    "    b = -24 - 10 * h**2 * model.q(x[1:-1])\n",
    "    c = 12 - h**2 * model.q(x[2:-1])\n",
    "    \n",
    "    # 创建右端项\n",
    "    rhs = -h**2 * (model.f(x[0:-2]) + 10 * model.f(x[1:-1]) + model.f(x[2:]))\n",
    "    rhs[0] = rhs[0] - (12 - h**2 * model.q(x[0])) * model.solution(x[0])\n",
    "    rhs[-1] = rhs[-1] - (12 - h**2 * model.q(x[-1])) * model.solution(x[-1])\n",
    "    \n",
    "    # 在网格上求得数值解\n",
    "    uh = np.zeros(NS + 1)\n",
    "    uh[1:-1] = thomas(a, b, c, rhs)\n",
    "    uh[0] = model.solution(x[0])\n",
    "    uh[-1] = model.solution(x[-1])\n",
    "    \n",
    "    return x, uh"
   ]
  },
  {
   "cell_type": "markdown",
   "metadata": {},
   "source": [
    "## 紧差分格式测试程序"
   ]
  },
  {
   "cell_type": "code",
   "execution_count": 12,
   "metadata": {},
   "outputs": [],
   "source": [
    "def compact_test():\n",
    "    # 初始化\n",
    "    NS = [10, 20, 40, 80, 160]\n",
    "    lbd = 0\n",
    "    rbd = np.pi\n",
    "    model = Model_Data(lbd, rbd)\n",
    "        \n",
    "    e0 = np.zeros(5)\n",
    "    e1 = np.zeros(5)\n",
    "    e_max = np.zeros(5)\n",
    "    ee = [0 for i in range(5)]\n",
    "    X = []\n",
    "    UH = []\n",
    "    \n",
    "    for i in range(5):\n",
    "        x, uh = compact_fd1d_bvp(model, NS[i])  # 拿到网格和数值解\n",
    "        ee[i], e0[i], e1[i], e_max[i] = fd1d_bvp_error(model.solution, uh, x)\n",
    "        X.append(x)\n",
    "        UH.append(uh)\n",
    "    \n",
    "    print(UH[0])\n",
    "    # 在最后一个网格上计算真解\n",
    "    u = model.solution(X[-1])\n",
    "    \n",
    "    # 可视化\n",
    "    # 绘制真解图像\n",
    "    fig = plt.figure(figsize = (10, 5))\n",
    "    ax1 = plt.subplot(121)\n",
    "    ax1.plot(X[-1], u, color = \"r\", label = \"exact_solution\")\n",
    "    ax1.plot(X[0], UH[0], ls = '--', color = 'c', marker = '<', label = \"NS = 10\")\n",
    "    ax1.legend()\n",
    "    \n",
    "    # 绘制误差曲线\n",
    "    colors = ['g', 'm', 'c']\n",
    "    lss = ['--', '-.', ':']\n",
    "    markers = ['*', '^', 'x']\n",
    "    labels = ['error_NS = 10', 'error_NS = 20', 'error_NS = 40']\n",
    "    ax2 = plt.subplot(122)\n",
    "    for i in range(3):\n",
    "        ax2.plot(X[i], ee[i], color = colors[i], ls = lss[i], marker = markers[i], label = labels[i])\n",
    "    ax2.legend(loc = 'upper left')\n",
    "    plt.show()     \n",
    "    \n",
    "    # 计算最大值范数的变化\n",
    "    print(\"h          E_max(2h) / E_max(h)\")\n",
    "    for i in range(4):\n",
    "        print(\"pi / \" + str((20 * (2**i))), \"  \" ,e_max[i] / e_max[i+1])"
   ]
  },
  {
   "cell_type": "code",
   "execution_count": 13,
   "metadata": {},
   "outputs": [
    {
     "name": "stdout",
     "output_type": "stream",
     "text": [
      "[0.00000000e+00 4.23102812e-01 1.10178869e+00 2.07615578e+00\n",
      " 3.34145276e+00 4.81014599e+00 6.26318847e+00 7.29421831e+00\n",
      " 7.25558488e+00 5.22238790e+00 2.83391752e-15]\n"
     ]
    },
    {
     "data": {
      "image/png": "[encoded data removed]",
      "text/plain": [
       "<Figure size 720x360 with 2 Axes>"
      ]
     },
     "metadata": {
      "needs_background": "light"
     },
     "output_type": "display_data"
    },
    {
     "name": "stdout",
     "output_type": "stream",
     "text": [
      "h          E_max(2h) / E_max(h)\n",
      "pi / 20    15.91071291072469\n",
      "pi / 40    15.97755788054319\n",
      "pi / 80    15.991636035684488\n",
      "pi / 160    15.990024945301219\n"
     ]
    }
   ],
   "source": [
    "compact_test()"
   ]
  }
 ],
 "metadata": {
  "kernelspec": {
   "display_name": "Python 3",
   "language": "python",
   "name": "python3"
  },
  "language_info": {
   "codemirror_mode": {
    "name": "ipython",
    "version": 3
   },
   "file_extension": ".py",
   "mimetype": "text/x-python",
   "name": "python",
   "nbconvert_exporter": "python",
   "pygments_lexer": "ipython3",
   "version": "3.7.0"
  },
  "toc": {
   "base_numbering": 1,
   "nav_menu": {},
   "number_sections": true,
   "sideBar": true,
   "skip_h1_title": false,
   "title_cell": "Table of Contents",
   "title_sidebar": "Contents",
   "toc_cell": false,
   "toc_position": {},
   "toc_section_display": true,
   "toc_window_display": true
  }
 },
 "nbformat": 4,
 "nbformat_minor": 2
}
